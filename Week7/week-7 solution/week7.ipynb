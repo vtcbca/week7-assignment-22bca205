{
 "cells": [
  {
   "cell_type": "code",
   "execution_count": 1,
   "id": "749ed2f9-a401-490d-a73d-12f3a79740fc",
   "metadata": {},
   "outputs": [],
   "source": [
    "import pandas as pd"
   ]
  },
  {
   "cell_type": "markdown",
   "id": "068a67e3-46f6-4967-8f9a-97fc59c7a488",
   "metadata": {},
   "source": [
    "### Function to add 12 records (rows) based on user input"
   ]
  },
  {
   "cell_type": "code",
   "execution_count": 2,
   "id": "bf4f7c79-c934-417a-8699-8902f52482de",
   "metadata": {},
   "outputs": [],
   "source": [
    "def add_records():\n",
    "    records = []\n",
    "    for i in range(12):\n",
    "        prod_no = input(\"Enter Product No: \")\n",
    "        prod_name = input(\"Enter Product Name: \")\n",
    "        jan = int(input(\"Enter January Sell: \"))\n",
    "        feb = int(input(\"Enter February Sell: \"))\n",
    "        mar = int(input(\"Enter March Sell: \"))\n",
    "        apr = int(input(\"Enter April Sell: \"))\n",
    "        may = int(input(\"Enter May Sell: \"))\n",
    "        jun = int(input(\"Enter June Sell: \"))\n",
    "        records.append([prod_no, prod_name, jan, feb, mar, apr, may, jun])\n",
    "    return records"
   ]
  },
  {
   "cell_type": "markdown",
   "id": "2fd51859-dcbe-4299-8dd9-52296d251267",
   "metadata": {},
   "source": [
    "### 1. Add 12 Records"
   ]
  },
  {
   "cell_type": "code",
   "execution_count": 3,
   "id": "a02fbaa2-65f1-489a-af4b-5ca787c7ff13",
   "metadata": {},
   "outputs": [
    {
     "name": "stdin",
     "output_type": "stream",
     "text": [
      "Enter Product No:  1\n",
      "Enter Product Name:  apple\n",
      "Enter January Sell:  100\n",
      "Enter February Sell:  200\n",
      "Enter March Sell:  300\n",
      "Enter April Sell:  400\n",
      "Enter May Sell:  500\n",
      "Enter June Sell:  600\n",
      "Enter Product No:  2\n",
      "Enter Product Name:  orange\n",
      "Enter January Sell:  900\n",
      "Enter February Sell:  800\n",
      "Enter March Sell:  700\n",
      "Enter April Sell:  600\n",
      "Enter May Sell:  500\n",
      "Enter June Sell:  400\n",
      "Enter Product No:  3\n",
      "Enter Product Name:  watermelon\n",
      "Enter January Sell:  200\n",
      "Enter February Sell:  400\n",
      "Enter March Sell:  600\n",
      "Enter April Sell:  800\n",
      "Enter May Sell:  100\n",
      "Enter June Sell:  300\n",
      "Enter Product No:  4\n",
      "Enter Product Name:  mango\n",
      "Enter January Sell:  900\n",
      "Enter February Sell:  100\n",
      "Enter March Sell:  200\n",
      "Enter April Sell:  300\n",
      "Enter May Sell:  400\n",
      "Enter June Sell:  500\n",
      "Enter Product No:  5\n",
      "Enter Product Name:  kiwi\n",
      "Enter January Sell:  600\n",
      "Enter February Sell:  500\n",
      "Enter March Sell:  400\n",
      "Enter April Sell:  300\n",
      "Enter May Sell:  200\n",
      "Enter June Sell:  100\n",
      "Enter Product No:  6\n",
      "Enter Product Name:  pineapple\n",
      "Enter January Sell:  500\n",
      "Enter February Sell:  600\n",
      "Enter March Sell:  400\n",
      "Enter April Sell:  300\n",
      "Enter May Sell:  200\n",
      "Enter June Sell:  800\n",
      "Enter Product No:  7\n",
      "Enter Product Name:  strawberry\n",
      "Enter January Sell:  700\n",
      "Enter February Sell:  500\n",
      "Enter March Sell:  300\n",
      "Enter April Sell:  100\n",
      "Enter May Sell:  200\n",
      "Enter June Sell:  500\n",
      "Enter Product No:  8\n",
      "Enter Product Name:  banana\n",
      "Enter January Sell:  700\n",
      "Enter February Sell:  500\n",
      "Enter March Sell:  300\n",
      "Enter April Sell:  500\n",
      "Enter May Sell:  700\n",
      "Enter June Sell:  100\n",
      "Enter Product No:  9\n",
      "Enter Product Name:  dragonfruit\n",
      "Enter January Sell:  500\n",
      "Enter February Sell:  400\n",
      "Enter March Sell:  300\n",
      "Enter April Sell:  600\n",
      "Enter May Sell:  800\n",
      "Enter June Sell:  700\n",
      "Enter Product No:  10\n",
      "Enter Product Name:  chikoo\n",
      "Enter January Sell:  600\n",
      "Enter February Sell:  500\n",
      "Enter March Sell:  300\n",
      "Enter April Sell:  200\n",
      "Enter May Sell:  100\n",
      "Enter June Sell:  800\n",
      "Enter Product No:  11\n",
      "Enter Product Name:  papaya\n",
      "Enter January Sell:  500\n",
      "Enter February Sell:  400\n",
      "Enter March Sell:  600\n",
      "Enter April Sell:  300\n",
      "Enter May Sell:  200\n",
      "Enter June Sell:  600\n",
      "Enter Product No:  12\n",
      "Enter Product Name:  peach\n",
      "Enter January Sell:  400\n",
      "Enter February Sell:  900\n",
      "Enter March Sell:  800\n",
      "Enter April Sell:  600\n",
      "Enter May Sell:  100\n",
      "Enter June Sell:  200\n"
     ]
    }
   ],
   "source": [
    "data = add_records()"
   ]
  },
  {
   "cell_type": "markdown",
   "id": "ffc0fe50-bf8f-44cb-a929-29ebdb6670a3",
   "metadata": {},
   "source": [
    "### 2. Create DataFrame"
   ]
  },
  {
   "cell_type": "code",
   "execution_count": 4,
   "id": "54288f19-2dc1-4f33-9244-723694d8fbd5",
   "metadata": {},
   "outputs": [],
   "source": [
    "columns = [\"Prod_No\", \"Prod_Name\", \"January\", \"February\", \"March\", \"April\", \"May\", \"June\"]\n",
    "df = pd.DataFrame(data, columns=columns)"
   ]
  },
  {
   "cell_type": "markdown",
   "id": "2883d645-e9db-4422-bd1b-1cba135548a3",
   "metadata": {},
   "source": [
    "### Change Column Names"
   ]
  },
  {
   "cell_type": "code",
   "execution_count": 5,
   "id": "24621ded-d9ed-43ca-9f78-8574d8f4fe1c",
   "metadata": {},
   "outputs": [],
   "source": [
    "df = df.rename(columns={\"Prod_No\": \"Product No\", \"Prod_Name\": \"Product Name\"})"
   ]
  },
  {
   "cell_type": "markdown",
   "id": "08ae8d00-74f8-4248-8e0b-2a196ff3e244",
   "metadata": {},
   "source": [
    "### 4. Add \"Total Sell\" and \"Average Sell\" columns"
   ]
  },
  {
   "cell_type": "code",
   "execution_count": 6,
   "id": "d511b830-63f5-46e6-b0a0-b6b127c944e7",
   "metadata": {},
   "outputs": [],
   "source": [
    "df[\"Total Sell\"] = df.iloc[:, 2:].sum(axis=1)\n",
    "df[\"Average Sell\"] = df.iloc[:, 2:8].mean(axis=1)"
   ]
  },
  {
   "cell_type": "markdown",
   "id": "2b85260d-ab8f-4dac-b353-220cdd60dd42",
   "metadata": {},
   "source": [
    "### 5. Add 2 rows at the end"
   ]
  },
  {
   "cell_type": "code",
   "execution_count": 13,
   "id": "f5cc5dcb-1a11-4950-960e-93a43bd522d4",
   "metadata": {},
   "outputs": [],
   "source": [
    "df=pd.concat([df,pd.DataFrame([[\"13\",\"pear\",500,200,600,900,700,100],\n",
    "                              [\"14\",\"cherry\",900,800,700,600,500,400]],columns=columns)],ignore_index=True)"
   ]
  },
  {
   "cell_type": "markdown",
   "id": "cc8d4719-25c7-4746-8aa9-ff27f5b2a914",
   "metadata": {},
   "source": [
    "### 6. Add 2 rows after the 3rd row"
   ]
  },
  {
   "cell_type": "code",
   "execution_count": 14,
   "id": "b1314b63-e4da-4b8c-9710-6579e037c3bf",
   "metadata": {},
   "outputs": [],
   "source": [
    "insert_row1 = {\"Product No\": \"P8\", \"Product Name\": \"Product 8\", \"January\": 8000, \"February\": 9000, \"March\": 10000, \"April\": 11000, \"May\": 12000, \"June\": 13000}\n",
    "insert_row2 = {\"Product No\": \"P9\", \"Product Name\": \"Product 9\", \"January\": 9000, \"February\": 10000, \"March\": 11000, \"April\": 12000, \"May\": 13000, \"June\": 14000}\n",
    "df = pd.concat([df.iloc[:3], pd.DataFrame([insert_row1, insert_row2]), df.iloc[3:]]).reset_index(drop=True)"
   ]
  },
  {
   "cell_type": "markdown",
   "id": "76b88b7a-11cc-4f9e-b1c8-7b1df5505fb5",
   "metadata": {},
   "source": [
    "### 7. Print first 5 rows"
   ]
  },
  {
   "cell_type": "code",
   "execution_count": 15,
   "id": "69662530-5aa9-48f3-8bdc-a9dc4722c753",
   "metadata": {},
   "outputs": [
    {
     "name": "stdout",
     "output_type": "stream",
     "text": [
      "First 5 rows:\n",
      "  Product No Product Name  January  February  March  April    May   June  \\\n",
      "0          1        apple      100       200    300    400    500    600   \n",
      "1          2       orange      900       800    700    600    500    400   \n",
      "2          3   watermelon      200       400    600    800    100    300   \n",
      "3         P8    Product 8     8000      9000  10000  11000  12000  13000   \n",
      "4         P9    Product 9     9000     10000  11000  12000  13000  14000   \n",
      "\n",
      "   Total Sell  Average Sell Prod_No Prod_Name  \n",
      "0      2100.0         350.0     NaN       NaN  \n",
      "1      3900.0         650.0     NaN       NaN  \n",
      "2      2400.0         400.0     NaN       NaN  \n",
      "3         NaN           NaN     NaN       NaN  \n",
      "4         NaN           NaN     NaN       NaN  \n"
     ]
    }
   ],
   "source": [
    "print(\"First 5 rows:\")\n",
    "print(df.head(5))"
   ]
  },
  {
   "cell_type": "markdown",
   "id": "b9b92fa8-1bfc-46b9-8f72-7aeef4993cc7",
   "metadata": {},
   "source": [
    "### 8. Print last 5 rows"
   ]
  },
  {
   "cell_type": "code",
   "execution_count": 16,
   "id": "aa14c780-10ea-4363-853d-73483c76339c",
   "metadata": {},
   "outputs": [
    {
     "name": "stdout",
     "output_type": "stream",
     "text": [
      "\n",
      "Last 5 rows:\n",
      "   Product No Product Name  January  February  March  April  May  June  \\\n",
      "11         10       chikoo      600       500    300    200  100   800   \n",
      "12         11       papaya      500       400    600    300  200   600   \n",
      "13         12        peach      400       900    800    600  100   200   \n",
      "14        NaN          NaN      500       200    600    900  700   100   \n",
      "15        NaN          NaN      900       800    700    600  500   400   \n",
      "\n",
      "    Total Sell  Average Sell Prod_No Prod_Name  \n",
      "11      2500.0    416.666667     NaN       NaN  \n",
      "12      2600.0    433.333333     NaN       NaN  \n",
      "13      3000.0    500.000000     NaN       NaN  \n",
      "14         NaN           NaN      13      pear  \n",
      "15         NaN           NaN      14    cherry  \n"
     ]
    }
   ],
   "source": [
    "print(\"\\nLast 5 rows:\")\n",
    "print(df.tail(5))"
   ]
  },
  {
   "cell_type": "markdown",
   "id": "4831bf34-506c-4380-a7f4-ad53e0efaf53",
   "metadata": {},
   "source": [
    "### 9. Print rows 6 to 10"
   ]
  },
  {
   "cell_type": "code",
   "execution_count": 17,
   "id": "683602de-fe6d-46b6-8e44-103b48bae0fe",
   "metadata": {},
   "outputs": [
    {
     "name": "stdout",
     "output_type": "stream",
     "text": [
      "\n",
      "Rows 6 to 10:\n",
      "  Product No Product Name  January  February  March  April  May  June  \\\n",
      "5          4        mango      900       100    200    300  400   500   \n",
      "6          5         kiwi      600       500    400    300  200   100   \n",
      "7          6    pineapple      500       600    400    300  200   800   \n",
      "8          7   strawberry      700       500    300    100  200   500   \n",
      "9          8       banana      700       500    300    500  700   100   \n",
      "\n",
      "   Total Sell  Average Sell Prod_No Prod_Name  \n",
      "5      2400.0    400.000000     NaN       NaN  \n",
      "6      2100.0    350.000000     NaN       NaN  \n",
      "7      2800.0    466.666667     NaN       NaN  \n",
      "8      2300.0    383.333333     NaN       NaN  \n",
      "9      2800.0    466.666667     NaN       NaN  \n"
     ]
    }
   ],
   "source": [
    "print(\"\\nRows 6 to 10:\")\n",
    "print(df.iloc[5:10])"
   ]
  },
  {
   "cell_type": "markdown",
   "id": "8bfa0327-84c7-48c5-a9e3-de7f283f96b6",
   "metadata": {},
   "source": [
    "### 10. Print only product names"
   ]
  },
  {
   "cell_type": "code",
   "execution_count": 18,
   "id": "b04d7ea0-b87c-424f-9637-b0d18cf79c16",
   "metadata": {},
   "outputs": [
    {
     "name": "stdout",
     "output_type": "stream",
     "text": [
      "\n",
      "Product Names:\n",
      "0           apple\n",
      "1          orange\n",
      "2      watermelon\n",
      "3       Product 8\n",
      "4       Product 9\n",
      "5           mango\n",
      "6            kiwi\n",
      "7       pineapple\n",
      "8      strawberry\n",
      "9          banana\n",
      "10    dragonfruit\n",
      "11         chikoo\n",
      "12         papaya\n",
      "13          peach\n",
      "14            NaN\n",
      "15            NaN\n",
      "Name: Product Name, dtype: object\n"
     ]
    }
   ],
   "source": [
    "print(\"\\nProduct Names:\")\n",
    "print(df[\"Product Name\"])"
   ]
  },
  {
   "cell_type": "markdown",
   "id": "51fe5ed9-f451-4887-bf1c-3ac2e1325746",
   "metadata": {},
   "source": [
    "### 11. Print January sell with product ID and product name"
   ]
  },
  {
   "cell_type": "code",
   "execution_count": 19,
   "id": "24b9f6d1-78a2-40cd-b7d9-4a1229dc63c3",
   "metadata": {},
   "outputs": [
    {
     "name": "stdout",
     "output_type": "stream",
     "text": [
      "\n",
      "January Sell with Product ID and Product Name:\n",
      "   Product No Product Name  January\n",
      "0           1        apple      100\n",
      "1           2       orange      900\n",
      "2           3   watermelon      200\n",
      "3          P8    Product 8     8000\n",
      "4          P9    Product 9     9000\n",
      "5           4        mango      900\n",
      "6           5         kiwi      600\n",
      "7           6    pineapple      500\n",
      "8           7   strawberry      700\n",
      "9           8       banana      700\n",
      "10          9  dragonfruit      500\n",
      "11         10       chikoo      600\n",
      "12         11       papaya      500\n",
      "13         12        peach      400\n",
      "14        NaN          NaN      500\n",
      "15        NaN          NaN      900\n"
     ]
    }
   ],
   "source": [
    "print(\"\\nJanuary Sell with Product ID and Product Name:\")\n",
    "print(df[[\"Product No\", \"Product Name\", \"January\"]])"
   ]
  },
  {
   "cell_type": "markdown",
   "id": "7095f335-921a-452d-91af-ac6e885210d4",
   "metadata": {},
   "source": [
    "### 12. Print records where January sell > 5000 and February sell > 8000"
   ]
  },
  {
   "cell_type": "code",
   "execution_count": 20,
   "id": "06230fa7-cedd-4555-8f9e-c261839a6198",
   "metadata": {},
   "outputs": [
    {
     "name": "stdout",
     "output_type": "stream",
     "text": [
      "\n",
      "Records where January sell > 5000 and February sell > 8000:\n",
      "  Product No Product Name  January  February  March  April    May   June  \\\n",
      "3         P8    Product 8     8000      9000  10000  11000  12000  13000   \n",
      "4         P9    Product 9     9000     10000  11000  12000  13000  14000   \n",
      "\n",
      "   Total Sell  Average Sell Prod_No Prod_Name  \n",
      "3         NaN           NaN     NaN       NaN  \n",
      "4         NaN           NaN     NaN       NaN  \n"
     ]
    }
   ],
   "source": [
    "print(\"\\nRecords where January sell > 5000 and February sell > 8000:\")\n",
    "print(df[(df[\"January\"] > 5000) & (df[\"February\"] > 8000)])"
   ]
  },
  {
   "cell_type": "markdown",
   "id": "e85eb5da-687b-4b8e-a67a-6ec1cc977252",
   "metadata": {},
   "source": [
    "### 13. Print records in sorting order of Product name"
   ]
  },
  {
   "cell_type": "code",
   "execution_count": 21,
   "id": "a36461f3-7e4d-4fbf-8da3-880de2b3b226",
   "metadata": {},
   "outputs": [
    {
     "name": "stdout",
     "output_type": "stream",
     "text": [
      "\n",
      "Records sorted by Product Name:\n",
      "   Product No Product Name  January  February  March  April    May   June  \\\n",
      "3          P8    Product 8     8000      9000  10000  11000  12000  13000   \n",
      "4          P9    Product 9     9000     10000  11000  12000  13000  14000   \n",
      "0           1        apple      100       200    300    400    500    600   \n",
      "9           8       banana      700       500    300    500    700    100   \n",
      "11         10       chikoo      600       500    300    200    100    800   \n",
      "10          9  dragonfruit      500       400    300    600    800    700   \n",
      "6           5         kiwi      600       500    400    300    200    100   \n",
      "5           4        mango      900       100    200    300    400    500   \n",
      "1           2       orange      900       800    700    600    500    400   \n",
      "12         11       papaya      500       400    600    300    200    600   \n",
      "13         12        peach      400       900    800    600    100    200   \n",
      "7           6    pineapple      500       600    400    300    200    800   \n",
      "8           7   strawberry      700       500    300    100    200    500   \n",
      "2           3   watermelon      200       400    600    800    100    300   \n",
      "14        NaN          NaN      500       200    600    900    700    100   \n",
      "15        NaN          NaN      900       800    700    600    500    400   \n",
      "\n",
      "    Total Sell  Average Sell Prod_No Prod_Name  \n",
      "3          NaN           NaN     NaN       NaN  \n",
      "4          NaN           NaN     NaN       NaN  \n",
      "0       2100.0    350.000000     NaN       NaN  \n",
      "9       2800.0    466.666667     NaN       NaN  \n",
      "11      2500.0    416.666667     NaN       NaN  \n",
      "10      3300.0    550.000000     NaN       NaN  \n",
      "6       2100.0    350.000000     NaN       NaN  \n",
      "5       2400.0    400.000000     NaN       NaN  \n",
      "1       3900.0    650.000000     NaN       NaN  \n",
      "12      2600.0    433.333333     NaN       NaN  \n",
      "13      3000.0    500.000000     NaN       NaN  \n",
      "7       2800.0    466.666667     NaN       NaN  \n",
      "8       2300.0    383.333333     NaN       NaN  \n",
      "2       2400.0    400.000000     NaN       NaN  \n",
      "14         NaN           NaN      13      pear  \n",
      "15         NaN           NaN      14    cherry  \n"
     ]
    }
   ],
   "source": [
    "print(\"\\nRecords sorted by Product Name:\")\n",
    "print(df.sort_values(by=\"Product Name\"))"
   ]
  },
  {
   "cell_type": "markdown",
   "id": "e4272493-6cd2-4458-b1e0-07097f9019cf",
   "metadata": {},
   "source": [
    "### 14. Display only odd index number column records"
   ]
  },
  {
   "cell_type": "code",
   "execution_count": 22,
   "id": "0a1a73ec-f4c5-4f8f-9071-0aae45845ef3",
   "metadata": {},
   "outputs": [
    {
     "name": "stdout",
     "output_type": "stream",
     "text": [
      "\n",
      "Odd Index Column Records:\n",
      "   Product Name  February  April   June  Average Sell Prod_Name\n",
      "0         apple       200    400    600    350.000000       NaN\n",
      "1        orange       800    600    400    650.000000       NaN\n",
      "2    watermelon       400    800    300    400.000000       NaN\n",
      "3     Product 8      9000  11000  13000           NaN       NaN\n",
      "4     Product 9     10000  12000  14000           NaN       NaN\n",
      "5         mango       100    300    500    400.000000       NaN\n",
      "6          kiwi       500    300    100    350.000000       NaN\n",
      "7     pineapple       600    300    800    466.666667       NaN\n",
      "8    strawberry       500    100    500    383.333333       NaN\n",
      "9        banana       500    500    100    466.666667       NaN\n",
      "10  dragonfruit       400    600    700    550.000000       NaN\n",
      "11       chikoo       500    200    800    416.666667       NaN\n",
      "12       papaya       400    300    600    433.333333       NaN\n",
      "13        peach       900    600    200    500.000000       NaN\n",
      "14          NaN       200    900    100           NaN      pear\n",
      "15          NaN       800    600    400           NaN    cherry\n"
     ]
    }
   ],
   "source": [
    "print(\"\\nOdd Index Column Records:\")\n",
    "print(df.iloc[:, 1::2])"
   ]
  },
  {
   "cell_type": "markdown",
   "id": "4d1a20ac-06f1-4cfe-b441-0007681b6d70",
   "metadata": {},
   "source": [
    "### 15. Display alternate rows"
   ]
  },
  {
   "cell_type": "code",
   "execution_count": 23,
   "id": "22a22988-efe2-4344-8d82-a3c8a94c32ec",
   "metadata": {},
   "outputs": [
    {
     "name": "stdout",
     "output_type": "stream",
     "text": [
      "\n",
      "Alternate Rows:\n",
      "   Product No Product Name  January  February  March  April    May   June  \\\n",
      "0           1        apple      100       200    300    400    500    600   \n",
      "2           3   watermelon      200       400    600    800    100    300   \n",
      "4          P9    Product 9     9000     10000  11000  12000  13000  14000   \n",
      "6           5         kiwi      600       500    400    300    200    100   \n",
      "8           7   strawberry      700       500    300    100    200    500   \n",
      "10          9  dragonfruit      500       400    300    600    800    700   \n",
      "12         11       papaya      500       400    600    300    200    600   \n",
      "14        NaN          NaN      500       200    600    900    700    100   \n",
      "\n",
      "    Total Sell  Average Sell Prod_No Prod_Name  \n",
      "0       2100.0    350.000000     NaN       NaN  \n",
      "2       2400.0    400.000000     NaN       NaN  \n",
      "4          NaN           NaN     NaN       NaN  \n",
      "6       2100.0    350.000000     NaN       NaN  \n",
      "8       2300.0    383.333333     NaN       NaN  \n",
      "10      3300.0    550.000000     NaN       NaN  \n",
      "12      2600.0    433.333333     NaN       NaN  \n",
      "14         NaN           NaN      13      pear  \n"
     ]
    }
   ],
   "source": [
    "print(\"\\nAlternate Rows:\")\n",
    "print(df.iloc[::2])"
   ]
  },
  {
   "cell_type": "code",
   "execution_count": null,
   "id": "cbb6ee98-1097-48cf-84b9-ef818e2c4e36",
   "metadata": {},
   "outputs": [],
   "source": []
  }
 ],
 "metadata": {
  "kernelspec": {
   "display_name": "Python 3 (ipykernel)",
   "language": "python",
   "name": "python3"
  },
  "language_info": {
   "codemirror_mode": {
    "name": "ipython",
    "version": 3
   },
   "file_extension": ".py",
   "mimetype": "text/x-python",
   "name": "python",
   "nbconvert_exporter": "python",
   "pygments_lexer": "ipython3",
   "version": "3.9.6"
  }
 },
 "nbformat": 4,
 "nbformat_minor": 5
}
